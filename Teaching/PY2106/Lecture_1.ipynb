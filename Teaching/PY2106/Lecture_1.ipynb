{
 "cells": [
  {
   "cell_type": "markdown",
   "id": "92a23a5e-2f1c-4a5a-bbb8-09072804b1de",
   "metadata": {},
   "source": [
    "# Tidal Forces"
   ]
  },
  {
   "cell_type": "markdown",
   "id": "d2ce95f7-0020-403e-88fb-9cda385ebf6c",
   "metadata": {
    "tags": []
   },
   "source": [
    "### Mass Elements in a Line"
   ]
  },
  {
   "cell_type": "markdown",
   "id": "f5d03f10-a425-40ef-9739-23855eda0b0b",
   "metadata": {},
   "source": [
    "Consider Newton's 3rd law of Graviation:\n",
    "$$\n",
    "    F = G \\frac{M_1 M_2}{r^2}\n",
    "$$\n",
    "When initially deriving this equation, both $M_1$ and $M_2$ were treated as point masses, as they were both assumed to be spherically symmetric. The first question we want to ask is what happens if we do not treat them as point masses?\n",
    "\n",
    "The forces across the body will differ, because of the $1/R^2$ dependance on the force. Consider two mass elements, $m_1$ and $m_2$, within the Earth. Because of Newton's Shell theorem, both elements see would see the Moon as a point mass, but they will both feel different forces, because of their different distances to the Moon. This differentical force is known as the tidal force.\n",
    "\n",
    "Let us set up the problem as follows: $m_1$ lies a distance $R$ from the centre of mass of a nearby body whose mass is $M$. $m_2$ is a second point mass, which lies along the line joining $m_1$ and $M$, but is slightly closer to $M$ by a distance $dr$.\n",
    "\n",
    "<img src=\"Images/Figure_1.png\"/>\n",
    "\n",
    "The force exerted on $m_1$ is:\n",
    "$$\n",
    "    F_{m1} = G \\frac{m_1 M}{r^2}\n",
    "$$\n",
    "\n",
    "The difference in the forces which $m_1$ and $m_2$, $dF_m$, can be expressed as\n",
    "\n",
    "$$\n",
    "    dF_m = \\left(\\frac{dF_m}{dr}\\right)dr=-2G \\frac{m M}{r^3}dr\n",
    "$$\n",
    "\n",
    "This is the \"differentical force\". It has a $1/r^3$ dependence, which is a signifcantly stronger dependance than $1/r^2$ dependance of the gravitational force."
   ]
  },
  {
   "cell_type": "markdown",
   "id": "c3baa720-166a-4db3-895d-df2fdec49c26",
   "metadata": {},
   "source": [
    "### Mass Elements across the sphere"
   ]
  },
  {
   "cell_type": "markdown",
   "id": "b3c911dd-5884-4f1b-9eea-ba8f37ba12a4",
   "metadata": {},
   "source": [
    "Ok, let's now consider the difference in forces between points located at the centre of a body, and at it's surface. Consider the following setup\n",
    "\n",
    "<img src=\"Images/Figure_2.png\"/>\n",
    "\n",
    "For a test mass, $m$, located at the centre of the object on the left, then the graviational force felt due to the body on the right ($M$), is the normal gravitational force. Breaking it into it's x and y components, we have\n",
    "\n",
    "\\begin{equation}\n",
    "    F_C = F_{C,x} = G \\frac{Mm}{r^2},\\;\\;\\;\\;\\;\\;\\;\\;\\;\\;\\; F_{C,y} = 0\n",
    "\\end{equation}\n",
    "\n",
    "Now consider a test mass, $m$, located at point $P$ on the surface of the sphere. This point lies a distance $s$ from the large body on the right. In this case, the component forces are\n",
    "\n",
    "\\begin{equation}\n",
    "F_{P,x} = G \\frac{Mm}{s^2}\\cos(\\phi),\\;\\;\\;\\;\\;\\;\\;\\;\\;\\;\\; F_{P,y} = -G \\frac{Mm}{s^2}\\sin(\\phi)\n",
    "\\label{eq:vector_ray} \\tag{1}\n",
    "\\end{equation}\n",
    "\n",
    "The differential force is then given by\n",
    "\n",
    "\\begin{equation}\n",
    "\\Delta {\\bf F} = {\\bf F_P}- {\\bf F_C}=GMm\\left(\\frac{\\cos(\\phi)}{s^2}-\\frac{1}{r^2}\\right) {\\bf \\hat{i}} - G\\frac{Mm}{s^2}\\sin(\\phi) {\\bf \\hat{j}}\n",
    "\\end{equation}\n",
    "\n",
    "In essence, our work is now done, but there are a lot of variables in that last equation. Let's try and simplify some things. Recall the law of cosines:\n",
    "\n",
    "\\begin{equation}\n",
    "s^2 = R^2+r^2-2Rr\\cos(\\theta) = r^2\\left(\\frac{R^2}{r^2}+1-2\\frac{R}{r}\\cos(\\theta)\\right)\n",
    "\\end{equation}\n",
    "\n",
    "Now, in most cases, $r>>R$. As such, $\\frac{R^2}{r^2}<<1$, so can be neglected, giving\n",
    "\n",
    "\\begin{equation}\n",
    "s^2 \\approx r^2\\left(1-2\\frac{R}{r}\\cos(\\theta)\\right)\n",
    "\\end{equation}\n",
    "\n",
    "Substituting back in above, we then have \n",
    "\n",
    "\\begin{equation}\n",
    "\\Delta {\\bf F} = GMm\\left(\\frac{\\cos(\\phi)}{r^2\\left(1-2\\frac{R}{r}\\cos(\\theta)\\right)}-\\frac{1}{r^2}\\right) {\\bf \\hat{i}} - G\\frac{Mm}{r^2\\left(1-2\\frac{R}{r}\\cos(\\theta)\\right)}\\sin(\\phi) {\\bf \\hat{j}}\n",
    "\\end{equation}\n",
    "\n",
    "\\begin{equation}\n",
    "\\Delta {\\bf F} = \\frac{GMm}{r^2}\\left(\\frac{\\cos(\\phi)}{\\left(1-2\\frac{R}{r}\\cos(\\theta)\\right)}-1\\right) {\\bf \\hat{i}} - \\frac{GMm}{r^2}\\frac{1}{\\left(1-2\\frac{R}{r}\\cos(\\theta)\\right)}\\sin(\\phi) {\\bf \\hat{j}}\n",
    "\\end{equation}\n",
    "\n",
    "Noting that $r>>R$ and that $(1+x)^{-1}\\approx 1-x$, we can use the substitution $\\frac{1}{\\left(1-2\\frac{R}{r}\\cos(\\theta)\\right)} \\approx 1+2\\frac{R}{r}\\cos(\\theta)$, we get the expression:\n",
    "\n",
    "\\begin{equation}\n",
    "\\Delta {\\bf F} = \\frac{GMm}{r^2}\\left[\\cos(\\phi)\\left(1+2\\frac{R}{r}\\cos(\\theta)\\right)-1\\right] {\\bf \\hat{i}} - \\frac{GMm}{r^2}\\left(1+2\\frac{R}{r}\\cos(\\theta)\\right)\\sin(\\phi) {\\bf \\hat{j}}\n",
    "\\end{equation}\n",
    "\n",
    "Finally, using the small angle approxmation gives $\\cos (\\phi) \\approx1$ and $\\sin (\\phi) \\approx \\frac{R \\sin(\\theta)}{r}$ we get\n",
    "\n",
    "\\begin{equation}\n",
    "\\Delta {\\bf F} = \\frac{GMm}{r^2}2\\frac{R}{r}\\cos(\\theta) {\\bf \\hat{i}} - \\frac{GMm}{r^2}\\left(1+2\\frac{R\\cos(\\theta)}{r}\\right)\\frac{R \\sin(\\theta)}{r} {\\bf \\hat{j}}\n",
    "\\end{equation}\n",
    "\n",
    "Excluding terms of order $\\frac{R^2}{r^2}<<1$ again, we get \n",
    "\n",
    "\\begin{equation}\n",
    "\\Delta {\\bf F} = \\frac{GMmR}{r^3} 2\\cos(\\theta) {\\bf \\hat{i}} - \\frac{GMmR}{r^3} \\sin(\\theta)  {\\bf \\hat{j}}\n",
    "\\end{equation}\n",
    "\n",
    "\\begin{equation}\n",
    "\\Delta {\\bf F} = \\frac{GMmR}{r^3} (2\\cos(\\theta) {\\bf \\hat{i}} - \\sin(\\theta)  {\\bf \\hat{j}})\n",
    "\\label{eq:df} \\tag{2}\n",
    "\\end{equation}"
   ]
  },
  {
   "cell_type": "code",
   "execution_count": 1,
   "id": "7c74465e-873c-4122-914c-cf8197865e1f",
   "metadata": {
    "jupyter": {
     "source_hidden": true
    },
    "tags": []
   },
   "outputs": [],
   "source": [
    "import numpy as np\n",
    "import matplotlib.pyplot as plt"
   ]
  },
  {
   "cell_type": "code",
   "execution_count": 46,
   "id": "e2239a3c-3074-4d5e-8e52-224f0726f47d",
   "metadata": {
    "tags": []
   },
   "outputs": [
    {
     "data": {
      "image/png": "[encoded data removed]",
      "text/plain": [
       "<Figure size 576x216 with 2 Axes>"
      ]
     },
     "metadata": {
      "needs_background": "light"
     },
     "output_type": "display_data"
    }
   ],
   "source": [
    "fig, ax = plt.subplots(nrows=1,ncols=2,figsize=[8,3])\n",
    "theta = np.linspace(0,2*np.pi,25)\n",
    "\n",
    "#In the below, I've set R/r = 1/3. It's not <<0, but will suffice\n",
    "#for a demo. I've also set G=M=m=1. You can add all the units if\n",
    "#you wish\n",
    "\n",
    "r = 3 #Distance between centre of body on left and body on right, r. \n",
    "R = 1 #Radius of body on left, R\n",
    "\n",
    "x = R*np.cos(theta) #moving to cartesian coords\n",
    "y = R*np.sin(theta) #moving to cartesian coords\n",
    "\n",
    "#To calculated F at each point, we need to calculate the correct phi\n",
    "s = np.sqrt(R**2+r**2-2*R*r*np.cos(theta)) #cosine rule\n",
    "phi = np.arcsin(R*np.sin(theta)/(r-x))\n",
    "\n",
    "f_x = np.cos(phi)/s**2 #Equation (1)\n",
    "f_y = -np.sin(phi)/s**2 #Equation (1)\n",
    "\n",
    "df_x = 2*R*np.cos(theta)/r**3 #Equation (2)\n",
    "df_y = -R*np.sin(theta)/r**3 #Equation (2)\n",
    "\n",
    "ax[0].plot(x,y)\n",
    "ax[0].quiver(x,y,f_x,f_y)\n",
    "ax[0].set_xlim(-1.5,1.5)\n",
    "ax[0].set_title(\"Gravitational Force\")\n",
    "\n",
    "ax[1].plot(x,y)\n",
    "ax[1].quiver(x,y,df_x,df_y)\n",
    "ax[1].set_xlim(-1.5,1.5)\n",
    "ax[1].set_title(\"Differential Force\")\n",
    "plt.show()"
   ]
  },
  {
   "cell_type": "markdown",
   "id": "ee4e69dc-9f77-4010-a4a6-3e0a18977a09",
   "metadata": {
    "tags": []
   },
   "source": [
    "### Tidal Friction"
   ]
  },
  {
   "cell_type": "code",
   "execution_count": null,
   "id": "41d74694-879d-44c1-bba9-10d0a4cae93e",
   "metadata": {},
   "outputs": [],
   "source": []
  }
 ],
 "metadata": {
  "kernelspec": {
   "display_name": "Python 3 (ipykernel)",
   "language": "python",
   "name": "python3"
  },
  "language_info": {
   "codemirror_mode": {
    "name": "ipython",
    "version": 3
   },
   "file_extension": ".py",
   "mimetype": "text/x-python",
   "name": "python",
   "nbconvert_exporter": "python",
   "pygments_lexer": "ipython3",
   "version": "3.8.10"
  }
 },
 "nbformat": 4,
 "nbformat_minor": 5
}
